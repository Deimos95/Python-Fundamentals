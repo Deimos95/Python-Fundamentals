{
  "nbformat": 4,
  "nbformat_minor": 0,
  "metadata": {
    "colab": {
      "provenance": []
    },
    "kernelspec": {
      "name": "python3",
      "display_name": "Python 3"
    },
    "language_info": {
      "name": "python"
    }
  },
  "cells": [
    {
      "cell_type": "markdown",
      "source": [
        "# Lists:For Loop\n",
        "1. Convert a list of characters into a string. For example,\n",
        "\n",
        "\n",
        "```\n",
        "['a', 'b', 'c', 'd'] -> \"abcd\"\n",
        "```\n",
        "\n",
        "2. Calculate the area of a circle using its radius. **Get input from user** (pi = 3.14)\n",
        "\n",
        "3. Write a Python program that takes three numbers as input and prints the largest number. **Get Input from user.**\n",
        "\n",
        "```\n",
        "Enter first number:\n",
        "2\n",
        "Enter second number:\n",
        "6\n",
        "Enter third number:\n",
        "8\n",
        "Output: 862\n",
        "```\n",
        "\n",
        "4. Write a Python program that takes a list of integers and creates a new list containing the squares of each integer in the original list.\n",
        "\n",
        "```\n",
        "Input:\n",
        "[1, 2, 3, 4, 5]\n",
        "Output:\n",
        "[1, 4, 9, 16, 25]\n",
        "\n",
        "```\n",
        "\n",
        "5. Write a Python program that creates a new list where each element is the cumulative sum of the elements from the original list.\n",
        "\n",
        "```\n",
        "Input:\n",
        "[1, 2, 3, 4]\n",
        "Output:\n",
        "[1, 3, 6, 10]\n",
        "\n",
        "```"
      ],
      "metadata": {
        "id": "hdSFVbFZMhQN"
      }
    },
    {
      "cell_type": "code",
      "source": [
        "#task 1\n",
        "def convert_to_string(list):\n",
        "  c=\"\"\n",
        "  for i in list:\n",
        "     c+=i\n",
        "  return c\n",
        "print(convert_to_string(['a', 'b', 'c', 'd']))\n",
        "\n",
        "\n"
      ],
      "metadata": {
        "id": "Z9N8DXodLZaH",
        "outputId": "c584120a-848a-4344-c1c1-9b463f17477d",
        "colab": {
          "base_uri": "https://localhost:8080/"
        }
      },
      "execution_count": null,
      "outputs": [
        {
          "output_type": "stream",
          "name": "stdout",
          "text": [
            "abcd\n"
          ]
        }
      ]
    },
    {
      "cell_type": "code",
      "source": [
        "#task 2\n",
        "radius= int(input(\"Enter radius of circle: \"))\n",
        "area= 3.14* (radius**2)\n",
        "print(f\"Area of circle: {area}\")"
      ],
      "metadata": {
        "id": "hwW-ElwPOqEj",
        "outputId": "ed23d4a0-9fcb-4375-b9e2-6e44f45eb228",
        "colab": {
          "base_uri": "https://localhost:8080/"
        }
      },
      "execution_count": null,
      "outputs": [
        {
          "output_type": "stream",
          "name": "stdout",
          "text": [
            "Enter radius of circle: 3\n",
            "Area of circle: 28.26\n"
          ]
        }
      ]
    },
    {
      "cell_type": "code",
      "source": [
        "#task 3\n",
        "list=[]\n",
        "a= int(input(\"Enter first number: \"))\n",
        "b= int(input(\"Enter second number: \"))\n",
        "c= int(input(\"Enter third number: \"))\n",
        "list.extend([a,b,c])\n",
        "\n",
        "c=\"\"\n",
        "list=sorted(list,reverse=True)\n",
        "for i in list:\n",
        "  c+=str(i)\n",
        "print(c)"
      ],
      "metadata": {
        "id": "Tgm7FPe_P6II",
        "outputId": "9482d05e-cff3-439c-cae8-1838193343c7",
        "colab": {
          "base_uri": "https://localhost:8080/"
        }
      },
      "execution_count": null,
      "outputs": [
        {
          "output_type": "stream",
          "name": "stdout",
          "text": [
            "Enter first number: 6\n",
            "Enter second number: 3\n",
            "Enter third number: 0\n",
            "630\n"
          ]
        }
      ]
    },
    {
      "cell_type": "code",
      "source": [
        "#task 4\n",
        "def squares(lst):\n",
        "  new_list=[]\n",
        "  for i in lst:\n",
        "    new_list.append(i**2)\n",
        "  return new_list\n",
        "print(squares([1, 2, 3, 4, 5]))\n",
        "\n"
      ],
      "metadata": {
        "id": "cjxGyclVQnrW",
        "outputId": "d1d1fcf6-cbb6-4c65-ccce-96bca98a4dfe",
        "colab": {
          "base_uri": "https://localhost:8080/"
        }
      },
      "execution_count": null,
      "outputs": [
        {
          "output_type": "stream",
          "name": "stdout",
          "text": [
            "[1, 4, 9, 16, 25]\n"
          ]
        }
      ]
    },
    {
      "cell_type": "code",
      "source": [
        "#task 5\n",
        "def cumilative(lst):\n",
        "  newlist=[]\n",
        "  a=0\n",
        "  for i in range(len(lst)):\n",
        "    a+=lst[i]\n",
        "    newlist.append(a)\n",
        "  return(newlist)\n",
        "print(cumilative([1, 2, 3, 4]))\n",
        "\n"
      ],
      "metadata": {
        "id": "PAzGUpZWRvLB",
        "outputId": "247da972-1f69-4620-c3fc-4c368ba857b7",
        "colab": {
          "base_uri": "https://localhost:8080/"
        }
      },
      "execution_count": null,
      "outputs": [
        {
          "output_type": "stream",
          "name": "stdout",
          "text": [
            "[1, 3, 6, 10]\n"
          ]
        }
      ]
    }
  ]
}