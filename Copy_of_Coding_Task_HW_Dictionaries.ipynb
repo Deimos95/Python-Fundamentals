{
  "nbformat": 4,
  "nbformat_minor": 0,
  "metadata": {
    "colab": {
      "provenance": []
    },
    "kernelspec": {
      "name": "python3",
      "display_name": "Python 3"
    },
    "language_info": {
      "name": "python"
    }
  },
  "cells": [
    {
      "cell_type": "markdown",
      "source": [
        "1) Write a program to merge two dictionaries into one. If there are overlapping keys, sum their values.\n",
        "\n",
        "2) Write a Python program to create an empty dictionary.\n",
        "\n",
        "3) Write a Python script to iterate over a dictionary and print all key-value pairs.\n",
        "\n",
        "4) Write a Python program to remove the key-value pair with key 'age' from  dictionary\n",
        "\n",
        "5) Write a program to sort a dictionary by its keys in ascending order and print the sorted dictionary.\n",
        "\n",
        "6) Given a dictionary students_scores = {'Alice': 85, 'Bob': 90}, update the score for 'Alice' to 95. If 'Charlie' does not exist in the dictionary, add 'Charlie' with a default score of 60.\n",
        "\n",
        "7) Write a Python program to print all the values in  dictionary:\n",
        "\n",
        "8) Given a dictionary item_prices = {'apple': 1.00, 'banana': 0.50}, calculate the total price of all items. Then, apply a 10% discount to all items and update the dictionary."
      ],
      "metadata": {
        "id": "e22kUXzLqnG4"
      }
    },
    {
      "cell_type": "code",
      "execution_count": null,
      "metadata": {
        "id": "IdltApYrqmG3",
        "outputId": "550c2a6f-7eed-4c72-a930-c672a03e5c9b",
        "colab": {
          "base_uri": "https://localhost:8080/"
        }
      },
      "outputs": [
        {
          "output_type": "stream",
          "name": "stdout",
          "text": [
            "{'apple': 4, 'banana': 2, 'orange': 5, 'avocado': 9, 'carrrot': 4}\n"
          ]
        }
      ],
      "source": [
        "#task 1\n",
        "def merge_dicts(dict1, dict2):\n",
        "    merged_dict = dict1.copy()\n",
        "    for key, value in dict2.items():\n",
        "        if key in merged_dict:\n",
        "            merged_dict[key] += value\n",
        "        else:\n",
        "            merged_dict[key] = value\n",
        "    return merged_dict\n",
        "\n",
        "dict1 = {'apple': 1, 'banana': 2, 'orange':5, 'avocado':1}\n",
        "dict2 = {'apple': 3, 'carrrot': 4, 'avocado':8}\n",
        "merged_dict = merge_dicts(dict1, dict2)\n",
        "print(merged_dict)\n"
      ]
    },
    {
      "cell_type": "code",
      "source": [
        "#task 2\n",
        "dict()\n",
        "empty_dict = {}\n",
        "print(empty_dict)"
      ],
      "metadata": {
        "id": "U2Ecdhc421Bp",
        "outputId": "984d9cf3-7ebd-4a39-b485-98f90bfc9cfd",
        "colab": {
          "base_uri": "https://localhost:8080/"
        }
      },
      "execution_count": null,
      "outputs": [
        {
          "output_type": "stream",
          "name": "stdout",
          "text": [
            "{}\n"
          ]
        }
      ]
    },
    {
      "cell_type": "code",
      "source": [
        "#task 3\n",
        "rashad={'Name': 'Rashad', 'Age': 29, 'Weight':70, 'Height':170}\n",
        "for key, value in rashad.items():\n",
        "    print(key, value)"
      ],
      "metadata": {
        "id": "wEB18UtS3LmB",
        "outputId": "165e8368-f0a2-494f-8290-88ced1a6f8db",
        "colab": {
          "base_uri": "https://localhost:8080/"
        }
      },
      "execution_count": null,
      "outputs": [
        {
          "output_type": "stream",
          "name": "stdout",
          "text": [
            "Name Rashad\n",
            "Age 29\n",
            "Weight 70\n",
            "Height 170\n"
          ]
        }
      ]
    },
    {
      "cell_type": "code",
      "source": [
        "#task 4\n",
        "del rashad['Age']\n",
        "print(rashad)"
      ],
      "metadata": {
        "id": "dJ7GXPUs3pHg",
        "outputId": "3f0ff60c-a8a8-4b78-b026-3632c103882a",
        "colab": {
          "base_uri": "https://localhost:8080/"
        }
      },
      "execution_count": null,
      "outputs": [
        {
          "output_type": "stream",
          "name": "stdout",
          "text": [
            "{'Name': 'Rashad', 'Weight': 70, 'Height': 170}\n"
          ]
        }
      ]
    },
    {
      "cell_type": "code",
      "source": [
        "#task 5\n",
        "dict_sorted={}\n",
        "for key in sorted(dict1.keys()):\n",
        "  dict_sorted.update({key:dict1[key]})\n",
        "print(dict_sorted)\n",
        "\n"
      ],
      "metadata": {
        "id": "LL2dnmII4OSn",
        "outputId": "d5c16d8d-3061-4cb8-d294-b71e3f0adc95",
        "colab": {
          "base_uri": "https://localhost:8080/"
        }
      },
      "execution_count": null,
      "outputs": [
        {
          "output_type": "stream",
          "name": "stdout",
          "text": [
            "{'apple': 1, 'avocado': 1, 'banana': 2, 'orange': 5}\n"
          ]
        }
      ]
    },
    {
      "cell_type": "code",
      "source": [
        "#task 6\n",
        "students_scores = {'Alice': 85, 'Bob': 90}\n",
        "students_scores['Alice'] = 95\n",
        "print(students_scores)\n",
        "students_scores.setdefault('Charlie','60')\n",
        "print(students_scores)"
      ],
      "metadata": {
        "id": "lpzDgG098KKY",
        "outputId": "5a46dfa1-7230-4aa7-8549-9bed699ed913",
        "colab": {
          "base_uri": "https://localhost:8080/"
        }
      },
      "execution_count": null,
      "outputs": [
        {
          "output_type": "stream",
          "name": "stdout",
          "text": [
            "{'Alice': 95, 'Bob': 90}\n",
            "{'Alice': 95, 'Bob': 90, 'Charlie': '60'}\n"
          ]
        }
      ]
    },
    {
      "cell_type": "code",
      "source": [
        "#task 7\n",
        "for value in rashad.values():\n",
        "  print(value)"
      ],
      "metadata": {
        "id": "mBuVr8jz-ImN",
        "outputId": "42cf51a8-d29f-430d-97a5-50407e721278",
        "colab": {
          "base_uri": "https://localhost:8080/"
        }
      },
      "execution_count": null,
      "outputs": [
        {
          "output_type": "stream",
          "name": "stdout",
          "text": [
            "Rashad\n",
            "70\n",
            "170\n"
          ]
        }
      ]
    },
    {
      "cell_type": "code",
      "source": [
        "#task 8\n",
        "item_prices = {'apple': 1.00, 'banana': 0.50}\n",
        "total_price = sum(item_prices.values())\n",
        "for key, value in item_prices.items():\n",
        "    item_prices[key] = value * 0.9\n",
        "print(item_prices)\n",
        "\n",
        "\n",
        "\n",
        "\n"
      ],
      "metadata": {
        "id": "-Et3FtQ8-W6k",
        "outputId": "3cfcd461-6acc-4c28-9d08-84c7bd4e5b6b",
        "colab": {
          "base_uri": "https://localhost:8080/"
        }
      },
      "execution_count": null,
      "outputs": [
        {
          "output_type": "stream",
          "name": "stdout",
          "text": [
            "{'apple': 0.9, 'banana': 0.45}\n"
          ]
        }
      ]
    }
  ]
}