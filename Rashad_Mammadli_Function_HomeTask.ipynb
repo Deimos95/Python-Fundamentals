{
  "nbformat": 4,
  "nbformat_minor": 0,
  "metadata": {
    "colab": {
      "provenance": [],
      "include_colab_link": true
    },
    "kernelspec": {
      "name": "python3",
      "display_name": "Python 3"
    },
    "language_info": {
      "name": "python"
    }
  },
  "cells": [
    {
      "cell_type": "markdown",
      "metadata": {
        "id": "view-in-github",
        "colab_type": "text"
      },
      "source": [
        "<a href=\"https://colab.research.google.com/github/Deimos95/Python-Fundamentals/blob/main/Rashad_Mammadli_Function_HomeTask.ipynb\" target=\"_parent\"><img src=\"https://colab.research.google.com/assets/colab-badge.svg\" alt=\"Open In Colab\"/></a>"
      ]
    },
    {
      "cell_type": "markdown",
      "source": [
        "1) Write a function is_even(n) that returns True if the number is even, otherwise False.\n",
        "\n",
        "2) Write a function is_prime(n) that checks if a number is prime. (*A prime number is a natural number greater than 1 that has no positive divisors other than 1 and itself. In other words, a prime number is only divisible by 1 and itself without leaving a remainder. Examples of prime numbers include 2, 3, 5, 7, 11, 13, 17, and so on.*)\n",
        "\n",
        "3) Write a  Python function to multiply all the numbers in a list.\n",
        "\n",
        "\n",
        "```\n",
        "Sample List : (8, 2, 3, -1, 7)\n",
        "Expected Output : -336\n",
        "```\n",
        "\n",
        "4) Write a Python function that accepts a string and counts the number of upper and lower case letters.\n",
        "\n",
        "```\n",
        "Sample String : 'The quick Brow Fox'\n",
        "Expected Output :\n",
        "No. of Upper case characters : 3\n",
        "No. of Lower case Characters : 12\n",
        "```\n",
        "\n",
        "5) Write a  Python function to create and print a list where the values are the squares of numbers between 1 and 30 (both included).\n",
        "\n",
        "6) Write a function to check if a given number is an Armstrong number or not.\n",
        "\n",
        "7) Write a function that calculates the sum of digits of a given number.\n",
        "\n",
        "8) Write a function that finds the number of divisors of a given number.\n",
        "\n",
        "9) Write a function called fuel_cost that takes a distance as a required argument, km (default 50 km) and fuel cost (default $1 a litre) as optional arguments. The function should return the cost in dollars.\n",
        "\n",
        "10) Write a function called hcf (ƏBOB) that takes 2 integer values and returns the highest common factor of the numbers.\n",
        "\n"
      ],
      "metadata": {
        "id": "Bk0TIJb3ERrI"
      }
    },
    {
      "cell_type": "code",
      "source": [
        "#task 1\n",
        "def is_even(n):\n",
        "  if n % 2 == 0:\n",
        "    return True\n",
        "  else:\n",
        "    return False\n",
        "print(is_even(1))"
      ],
      "metadata": {
        "colab": {
          "base_uri": "https://localhost:8080/"
        },
        "id": "0ksMXHc96Ztz",
        "outputId": "9e6ec3ab-148d-4d32-f800-63788bfb8c5b"
      },
      "execution_count": null,
      "outputs": [
        {
          "output_type": "stream",
          "name": "stdout",
          "text": [
            "False\n"
          ]
        }
      ]
    },
    {
      "cell_type": "code",
      "source": [
        "#task 2\n",
        "def is_prime(n):\n",
        "  for i in range(2,n):\n",
        "    if n%i==0:\n",
        "      return False\n",
        "  return True\n",
        "print(is_prime(11))"
      ],
      "metadata": {
        "colab": {
          "base_uri": "https://localhost:8080/"
        },
        "id": "OXKSD_F07Htf",
        "outputId": "32bebf60-b19a-48fe-861b-cbb9b6e46cd4"
      },
      "execution_count": null,
      "outputs": [
        {
          "output_type": "stream",
          "name": "stdout",
          "text": [
            "True\n"
          ]
        }
      ]
    },
    {
      "cell_type": "code",
      "source": [
        "#task 3\n",
        "def multiply(list):\n",
        "  c=1\n",
        "  for i in list:\n",
        "    c=c*i\n",
        "  return c\n",
        "print(multiply([8,2,3,-1,7]))\n",
        "\n"
      ],
      "metadata": {
        "colab": {
          "base_uri": "https://localhost:8080/"
        },
        "id": "RzSK1ARR7hR_",
        "outputId": "c5eb1edd-e656-4966-b918-33255d690826"
      },
      "execution_count": null,
      "outputs": [
        {
          "output_type": "stream",
          "name": "stdout",
          "text": [
            "-336\n"
          ]
        }
      ]
    },
    {
      "cell_type": "code",
      "source": [
        "#task 4\n",
        "def count_case(string):\n",
        "  upper=0\n",
        "  lower=0\n",
        "  for c in string:\n",
        "    if c in \"abcdefghijklmnopqrstuvwxyzABCDEFGHIJKLMNOPRSTUVWXYZ\":\n",
        "      if c==c.upper():\n",
        "        upper+=1\n",
        "      elif c==c.lower():\n",
        "        lower+=1\n",
        "  print(f\"No. of Upper case characters : {upper}\")\n",
        "  print(f\"No. of Lower case characters : {lower}\")\n",
        "\n",
        "count_case('The quick Brow Fox')\n"
      ],
      "metadata": {
        "colab": {
          "base_uri": "https://localhost:8080/"
        },
        "id": "ukJvA79I79CO",
        "outputId": "101c2f0a-2d44-473e-f5cd-34d5dd9e0e91"
      },
      "execution_count": null,
      "outputs": [
        {
          "output_type": "stream",
          "name": "stdout",
          "text": [
            "No. of Upper case characters : 3\n",
            "No. of Lower case characters : 12\n"
          ]
        }
      ]
    },
    {
      "cell_type": "code",
      "source": [
        "#task 5\n",
        "def squares():\n",
        "  list=[]\n",
        "  for i in range(1,31):\n",
        "    list.append(i**2)\n",
        "  return list\n",
        "print(squares())\n",
        "\n"
      ],
      "metadata": {
        "colab": {
          "base_uri": "https://localhost:8080/"
        },
        "id": "DMCkeA8D91YN",
        "outputId": "20982a1a-94d7-42c9-a1e1-c421ca69681b"
      },
      "execution_count": null,
      "outputs": [
        {
          "output_type": "stream",
          "name": "stdout",
          "text": [
            "[1, 4, 9, 16, 25, 36, 49, 64, 81, 100, 121, 144, 169, 196, 225, 256, 289, 324, 361, 400, 441, 484, 529, 576, 625, 676, 729, 784, 841, 900]\n"
          ]
        }
      ]
    },
    {
      "cell_type": "code",
      "source": [
        "#task 6\n",
        "def armstrong(n):\n",
        "  n=str(n)\n",
        "  sum=0\n",
        "  for i in n:\n",
        "    sum+=int(i)**len(n)\n",
        "  if sum==int(n):\n",
        "    return True\n",
        "  else:\n",
        "    return False\n",
        "print(armstrong(153))\n",
        "\n"
      ],
      "metadata": {
        "colab": {
          "base_uri": "https://localhost:8080/"
        },
        "id": "nPyxOSvSDWGE",
        "outputId": "c9c90418-8230-49c7-dba7-0bc09d1cab37"
      },
      "execution_count": null,
      "outputs": [
        {
          "output_type": "stream",
          "name": "stdout",
          "text": [
            "True\n"
          ]
        }
      ]
    },
    {
      "cell_type": "code",
      "source": [
        "#task 7\n",
        "def sum_of_digits(n):\n",
        "  c=0\n",
        "  while n>=1:\n",
        "    c=c+n%10\n",
        "    n=n//10\n",
        "  return c+n\n",
        "print(sum_of_digits(12903))\n"
      ],
      "metadata": {
        "colab": {
          "base_uri": "https://localhost:8080/"
        },
        "id": "sL_ZU3YpEnx6",
        "outputId": "252b39aa-9b7d-4ba9-e997-90de8230825d"
      },
      "execution_count": null,
      "outputs": [
        {
          "output_type": "stream",
          "name": "stdout",
          "text": [
            "15\n"
          ]
        }
      ]
    },
    {
      "cell_type": "code",
      "source": [
        "#task 8\n",
        "def divisors(n):\n",
        "  count=0\n",
        "  for i in range(1,n+1):\n",
        "    if n%i==0:\n",
        "      count+=1\n",
        "  return count\n",
        "print(divisors(12))\n",
        "\n"
      ],
      "metadata": {
        "id": "5e_h4EcEFy6w",
        "colab": {
          "base_uri": "https://localhost:8080/"
        },
        "outputId": "eec85c56-5ba4-4061-952c-ce30bb4af8bc"
      },
      "execution_count": 1,
      "outputs": [
        {
          "output_type": "stream",
          "name": "stdout",
          "text": [
            "6\n"
          ]
        }
      ]
    },
    {
      "cell_type": "code",
      "source": [
        "#task 9\n",
        "def fuel_cost(km=50,fuel_cost=1):\n",
        "  return km*fuel_cost\n"
      ],
      "metadata": {
        "id": "iYqETR7yOPXB"
      },
      "execution_count": 15,
      "outputs": []
    },
    {
      "cell_type": "code",
      "source": [
        "#task 10\n",
        "def hcf(a,b):\n",
        "  factors=[]\n",
        "  if a>b:\n",
        "    for i in range(2,b+1):\n",
        "      if a%i==0 and b%i==0:\n",
        "        factors.append(i)\n",
        "  elif a<b:\n",
        "    for i in range(2,a+1):\n",
        "      if a%i==0 and b%i==0:\n",
        "        factors.append(i)\n",
        "  factors.sort()\n",
        "  return factors[0]\n",
        "\n",
        "print(hcf(17,34))\n",
        "\n",
        "\n"
      ],
      "metadata": {
        "colab": {
          "base_uri": "https://localhost:8080/"
        },
        "id": "G46DbCBYO8dw",
        "outputId": "9171a644-62cf-40f2-e0c8-e6760ade3abf"
      },
      "execution_count": 14,
      "outputs": [
        {
          "output_type": "stream",
          "name": "stdout",
          "text": [
            "17\n"
          ]
        }
      ]
    }
  ]
}