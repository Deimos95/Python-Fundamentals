{
  "nbformat": 4,
  "nbformat_minor": 0,
  "metadata": {
    "colab": {
      "provenance": []
    },
    "kernelspec": {
      "name": "python3",
      "display_name": "Python 3"
    },
    "language_info": {
      "name": "python"
    }
  },
  "cells": [
    {
      "cell_type": "code",
      "execution_count": 10,
      "metadata": {
        "colab": {
          "base_uri": "https://localhost:8080/"
        },
        "id": "EpYBPYWpLzoY",
        "outputId": "8fd79647-00d7-490f-900b-d413b4bbe03b"
      },
      "outputs": [
        {
          "output_type": "stream",
          "name": "stdout",
          "text": [
            "first_name John\n",
            "last_name Watson\n",
            "age 37\n",
            "city London\n"
          ]
        }
      ],
      "source": [
        "#exercise 1\n",
        "#task 1\n",
        "person = {'first_name': 'John',  'last_name': 'Watson', 'age': 37,  'city': 'London'}\n",
        "for key, value in person.items():\n",
        "    print(key,value)"
      ]
    },
    {
      "cell_type": "code",
      "source": [
        "#task 2\n",
        "favorite_numbers = {\n",
        "    'Ronaldo': 7,\n",
        "    'Messi': 10,\n",
        "    'Mbappe': 9,\n",
        "    'Beckham': 23,\n",
        "    'Dida': 1\n",
        "}\n",
        "favorite_numbers['Reynaldo']=10\n",
        "for name, number in favorite_numbers.items():\n",
        "    print(f\"{name}'s favorite number is {number}\")"
      ],
      "metadata": {
        "colab": {
          "base_uri": "https://localhost:8080/"
        },
        "id": "BXZPwyExU5Ax",
        "outputId": "48bcc285-c4f8-46d9-d079-c59e792d8d73"
      },
      "execution_count": 2,
      "outputs": [
        {
          "output_type": "stream",
          "name": "stdout",
          "text": [
            "Ronaldo's favorite number is 7\n",
            "Messi's favorite number is 10\n",
            "Mbappe's favorite number is 9\n",
            "Beckham's favorite number is 23\n",
            "Dida's favorite number is 1\n",
            "Reynaldo's favorite number is 10\n"
          ]
        }
      ]
    },
    {
      "cell_type": "code",
      "source": [
        "#task 3\n",
        "programming_glossary = {\n",
        "    'Variable': 'A container for storing data values.',\n",
        "    'String': 'A sequence of characters.',\n",
        "    'List': 'An ordered collection of items.',\n",
        "    'Dictionary': 'A collection of key-value pairs.',\n",
        "    'Function': 'A block of code that performs a specific task.'\n",
        "}\n",
        "\n",
        "for term, meaning in programming_glossary.items():\n",
        "    print(f\"{term}:\\n\\t{meaning}\\n\")"
      ],
      "metadata": {
        "colab": {
          "base_uri": "https://localhost:8080/"
        },
        "id": "I8nU8fuaCLMT",
        "outputId": "badf2cf4-0775-40ac-8d9d-6619d5082f6e"
      },
      "execution_count": 3,
      "outputs": [
        {
          "output_type": "stream",
          "name": "stdout",
          "text": [
            "Variable:\n",
            "\tA container for storing data values.\n",
            "\n",
            "String:\n",
            "\tA sequence of characters.\n",
            "\n",
            "List:\n",
            "\tAn ordered collection of items.\n",
            "\n",
            "Dictionary:\n",
            "\tA collection of key-value pairs.\n",
            "\n",
            "Function:\n",
            "\tA block of code that performs a specific task.\n",
            "\n"
          ]
        }
      ]
    },
    {
      "cell_type": "code",
      "source": [
        "#exercise 2\n",
        "favorite_languages = {\n",
        "    'jen': ['python', 'rust'],\n",
        "    'sarah': ['c'],\n",
        "    'edward': ['rust', 'go'],\n",
        "    'phil': ['python', 'haskell'],\n",
        "}\n",
        "\n",
        "people_to_poll = ['jen', 'sarah', 'edward', 'phil', 'alice', 'mike']\n",
        "for person in people_to_poll:\n",
        "    if person in favorite_languages:\n",
        "        print(f\"Thank you {person.title()} for taking the poll.\")\n",
        "    else:\n",
        "        print(f\"{person.title()}, what's your favorite programming language?\")"
      ],
      "metadata": {
        "colab": {
          "base_uri": "https://localhost:8080/"
        },
        "id": "wO7N_5DyCwYH",
        "outputId": "25a0d09e-b890-45d9-c9a9-58ec3f60f747"
      },
      "execution_count": 4,
      "outputs": [
        {
          "output_type": "stream",
          "name": "stdout",
          "text": [
            "Thank you Jen for taking the poll.\n",
            "Thank you Sarah for taking the poll.\n",
            "Thank you Edward for taking the poll.\n",
            "Thank you Phil for taking the poll.\n",
            "Alice, what's your favorite programming language?\n",
            "Mike, what's your favorite programming language?\n"
          ]
        }
      ]
    },
    {
      "cell_type": "code",
      "source": [
        "pets = [\n",
        "    {'type': 'dog', 'owner': 'Alice'},\n",
        "    {'type': 'cat', 'owner': 'Bob'},\n",
        "    {'type': 'parrot', 'owner': 'Charlie'},\n",
        "]\n",
        "\n",
        "for pet in pets:\n",
        "    print(f\"The {pet['type']} belongs to {pet['owner']}.\")"
      ],
      "metadata": {
        "colab": {
          "base_uri": "https://localhost:8080/"
        },
        "id": "LnamehYTDr2N",
        "outputId": "fd77971a-38ae-4777-e971-877f8fec29ac"
      },
      "execution_count": 5,
      "outputs": [
        {
          "output_type": "stream",
          "name": "stdout",
          "text": [
            "The dog belongs to Alice.\n",
            "The cat belongs to Bob.\n",
            "The parrot belongs to Charlie.\n"
          ]
        }
      ]
    },
    {
      "cell_type": "code",
      "source": [
        "favorite_places = {\n",
        "    'Alice': ['Paris', 'New York'],\n",
        "    'Bob': ['Baku'],\n",
        "    'Charlie': ['Rome', 'Barcelona', 'Berlin']\n",
        "}\n",
        "\n",
        "# Loop through the dictionary and print each person's favorite places\n",
        "for name, places in favorite_places.items():\n",
        "    print(f\"{name}'s favorite places are: {places}\")"
      ],
      "metadata": {
        "colab": {
          "base_uri": "https://localhost:8080/"
        },
        "id": "7PKA1Eg6Dy79",
        "outputId": "4ff76ece-323f-4d07-fe24-828ea9177d4a"
      },
      "execution_count": 8,
      "outputs": [
        {
          "output_type": "stream",
          "name": "stdout",
          "text": [
            "Alice's favorite places are: ['Paris', 'New York']\n",
            "Bob's favorite places are: ['Baku']\n",
            "Charlie's favorite places are: ['Rome', 'Barcelona', 'Berlin']\n"
          ]
        }
      ]
    },
    {
      "cell_type": "code",
      "source": [
        "cities = {\n",
        "    'Baku': {'country': 'Azerbaijan', 'population': '2.3 million', 'fact': 'City of Winds'},\n",
        "    'Tokyo': {'country': 'Japan', 'population': '37 million', 'fact': 'Largest metropolitan in the world'},\n",
        "    'Paris': {'country': 'France', 'population': '2.1 million', 'fact': 'City of Light'}\n",
        "}\n",
        "\n",
        "# Loop through the dictionary and print information about each city\n",
        "for city, info in cities.items():\n",
        "    print(f\"{city}:\")\n",
        "    for key, value in info.items():\n",
        "        print(f\"{key.title()}: {value}\")"
      ],
      "metadata": {
        "colab": {
          "base_uri": "https://localhost:8080/"
        },
        "id": "rDJ-Yhp6Efrj",
        "outputId": "a7393987-7f02-4e1c-dfd3-a6e908036414"
      },
      "execution_count": 9,
      "outputs": [
        {
          "output_type": "stream",
          "name": "stdout",
          "text": [
            "Baku:\n",
            "Country: Azerbaijan\n",
            "Population: 2.3 million\n",
            "Fact: City of Winds\n",
            "Tokyo:\n",
            "Country: Japan\n",
            "Population: 37 million\n",
            "Fact: Largest metropolitan in the world\n",
            "Paris:\n",
            "Country: France\n",
            "Population: 2.1 million\n",
            "Fact: City of Light\n"
          ]
        }
      ]
    }
  ]
}
